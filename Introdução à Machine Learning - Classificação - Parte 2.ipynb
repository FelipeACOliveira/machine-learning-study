{
 "cells": [
  {
   "cell_type": "code",
   "execution_count": 6,
   "metadata": {},
   "outputs": [],
   "source": [
    "import pandas as pd\n",
    "\n",
    "uri='https://gist.githubusercontent.com/guilhermesilveira/2d2efa37d66b6c84a722ea627a897ced/raw/10968b997d885cbded1c92938c7a9912ba41c615/tracking.csv'\n",
    "dataset = pd.read_csv(uri)\n",
    "x = dataset[[\"home\", \"how_it_works\", \"contact\"]]\n",
    "y = dataset[\"bought\"]"
   ]
  },
  {
   "cell_type": "code",
   "execution_count": 4,
   "metadata": {},
   "outputs": [],
   "source": [
    "'''\n",
    "Pandas dataset can rename the columns with a map. Example:\n",
    "rename_map = {\n",
    "    \"home\": \"principal\",\n",
    "    \"how_it_works\": \"como_funciona\",\n",
    "    \"contact\": \"contato\",\n",
    "    \"bought\": \"comprou\"\n",
    "}\n",
    "dataset = dataset.rename(columns = rename_map)\n",
    "train_x = dataset[[\"principal\", \"como_funciona\", \"contato\"]]\n",
    "train_y = dataset[\"comprou\"]\n",
    "'''"
   ]
  },
  {
   "cell_type": "code",
   "execution_count": 7,
   "metadata": {},
   "outputs": [],
   "source": [
    "train_x = x[:75]\n",
    "train_y = y[:75]\n",
    "test_x = x[75:]\n",
    "test_y = y[75:]"
   ]
  },
  {
   "cell_type": "code",
   "execution_count": 12,
   "metadata": {},
   "outputs": [
    {
     "name": "stdout",
     "output_type": "stream",
     "text": [
      "treinaremos com 75 itens e testaremos com 24 itens\n"
     ]
    }
   ],
   "source": [
    "print(\"Treinaremos com %d itens e testaremos com %d itens\" % (len(train_x), len(test_x)))"
   ]
  },
  {
   "cell_type": "markdown",
   "metadata": {},
   "source": [
    "from sklearn.svm import LinearSVC\n",
    "from sklearn.metrics import accuracy_score\n",
    "\n",
    "model = LinearSVC()\n",
    "model.fit(train_x, train_y)\n",
    "prediction = model.predict(test_x)"
   ]
  },
  {
   "cell_type": "code",
   "execution_count": 22,
   "metadata": {
    "scrolled": false
   },
   "outputs": [
    {
     "name": "stdout",
     "output_type": "stream",
     "text": [
      "A precisão da predição foi de 0.96%\n"
     ]
    }
   ],
   "source": [
    "accuracy = accuracy_score(test_y, prediction)\n",
    "print(\"A precisão da predição foi de %.2f%%\" % (accuracy * 100))"
   ]
  },
  {
   "cell_type": "markdown",
   "metadata": {},
   "source": [
    "# Área de testes com  `train_test_split`"
   ]
  },
  {
   "cell_type": "code",
   "execution_count": 50,
   "metadata": {},
   "outputs": [
    {
     "name": "stdout",
     "output_type": "stream",
     "text": [
      "Treinaremos com 74 itens e testaremos com 25 itens\n",
      "A precisão da predição foi de 96.00%\n"
     ]
    },
    {
     "data": {
      "text/plain": [
       "0    47\n",
       "1    27\n",
       "Name: bought, dtype: int64"
      ]
     },
     "execution_count": 50,
     "metadata": {},
     "output_type": "execute_result"
    }
   ],
   "source": [
    "from sklearn.model_selection import train_test_split\n",
    "from sklearn.svm import LinearSVC\n",
    "from sklearn.metrics import accuracy_score\n",
    "\n",
    "SEED = 20\n",
    "\n",
    "train_x, test_x, train_y, test_y = train_test_split(x, y, test_size = 0.25, random_state = SEED)\n",
    "\n",
    "print(\"Treinaremos com %d itens e testaremos com %d itens\" % (len(train_x), len(test_x)))\n",
    "\n",
    "model = LinearSVC()\n",
    "model.fit(train_x, train_y)\n",
    "prediction = model.predict(test_x)\n",
    "\n",
    "accuracy = accuracy_score(test_y, prediction)\n",
    "print(\"A precisão da predição foi de %.2f%%\" % (accuracy * 100))\n",
    "\n",
    "train_y.value_counts()"
   ]
  },
  {
   "cell_type": "markdown",
   "metadata": {},
   "source": [
    "# Estratificação\n",
    "\n",
    "A estratificação dos dados é importante, para que sejam distribuídos proporcionalmente os valores 1 e 0 do resultado de teste, para que o algoritmo saiba reconhecer quando sim, e quando não. Evitando por exemplo um teste totalmente `0` ou totalmente `1`"
   ]
  },
  {
   "cell_type": "code",
   "execution_count": 56,
   "metadata": {},
   "outputs": [
    {
     "name": "stdout",
     "output_type": "stream",
     "text": [
      "Treinaremos com 74 itens e testaremos com 25 itens\n",
      "A precisão da predição foi de 96.00%\n"
     ]
    },
    {
     "data": {
      "text/plain": [
       "0    49\n",
       "1    25\n",
       "Name: bought, dtype: int64"
      ]
     },
     "execution_count": 56,
     "metadata": {},
     "output_type": "execute_result"
    }
   ],
   "source": [
    "from sklearn.model_selection import train_test_split\n",
    "from sklearn.svm import LinearSVC\n",
    "from sklearn.metrics import accuracy_score\n",
    "\n",
    "SEED = 20\n",
    "\n",
    "train_x, test_x, train_y, test_y = train_test_split(x, y, test_size = 0.25, random_state = SEED, stratify = y)\n",
    "\n",
    "print(\"Treinaremos com %d itens e testaremos com %d itens\" % (len(train_x), len(test_x)))\n",
    "\n",
    "model = LinearSVC()\n",
    "model.fit(train_x, train_y)\n",
    "prediction = model.predict(test_x)\n",
    "\n",
    "accuracy = accuracy_score(test_y, prediction)\n",
    "print(\"A precisão da predição foi de %.2f%%\" % (accuracy * 100))\n",
    "\n",
    "train_y.value_counts()"
   ]
  }
 ],
 "metadata": {
  "kernelspec": {
   "display_name": "Python 3",
   "language": "python",
   "name": "python3"
  },
  "language_info": {
   "codemirror_mode": {
    "name": "ipython",
    "version": 3
   },
   "file_extension": ".py",
   "mimetype": "text/x-python",
   "name": "python",
   "nbconvert_exporter": "python",
   "pygments_lexer": "ipython3",
   "version": "3.7.2"
  }
 },
 "nbformat": 4,
 "nbformat_minor": 2
}
